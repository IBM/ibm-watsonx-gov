{
 "cells": [
  {
   "cell_type": "markdown",
   "metadata": {},
   "source": [
    "# IBM watsonx.governance evaluation of Agentic App developed using Langgraph\n",
    "\n",
    "This notebook demonstrates how to use the Agentic AI evaluators from IBM watsonx.governance for governing your applications right in your development environment.\n",
    "\n",
    "The sample app shown here is an Agentic RAG example for querying information about IBM watsonx.governance capabilities. It makes use of OpenAI's `gpt-4o-mini` LLM for answer generation, and `text-embedding-3-small` embedding model for converting the queries to embeddings. \n"
   ]
  },
  {
   "cell_type": "markdown",
   "metadata": {},
   "source": [
    "### Install the dependencies"
   ]
  },
  {
   "cell_type": "code",
   "execution_count": null,
   "metadata": {},
   "outputs": [],
   "source": [
    "%pip install --quiet \"ibm-watsonx-gov[agentic,visualization]\" langchain-chroma langchain-openai pyppeteer nest_asyncio"
   ]
  },
  {
   "cell_type": "markdown",
   "metadata": {},
   "source": [
    "### Accept the credentials"
   ]
  },
  {
   "cell_type": "markdown",
   "metadata": {},
   "source": [
    "The following code snippet ensures that specific environment variables are set without being hardcoded in the script. It does so by prompting the user for input only if the variables are not already set.\n",
    "\n",
    "The environment variables need to be set are:\n",
    "\n",
    "1. **OPENAI_API_KEY:** This is required for Open AI capabilities.\n",
    "2. **WXG_API_KEY:** This is required for IBM watsonx.governance capabilities.\n",
    "\n",
    "Optionally, if you are using IBM watsonx.governance as a service in a regional data center other than **Dallas (us-south), in Texas US**, you need to set  **WXG_URL**. You can check the regional availability of the watsonx services [here](https://www.ibm.com/docs/en/watsonx/saas?topic=integrations-regional-availability-cloud#regional-availability-of-the-watsonx-services)"
   ]
  },
  {
   "cell_type": "code",
   "execution_count": 1,
   "metadata": {},
   "outputs": [
    {
     "name": "stdout",
     "output_type": "stream",
     "text": [
      "OPENAI_API_KEY:  ········\n",
      "WXG_API_KEY:  ········\n"
     ]
    }
   ],
   "source": [
    "import os, getpass\n",
    "\n",
    "def _set_env(var: str):\n",
    "    if not os.environ.get(var):\n",
    "        os.environ[var] = getpass.getpass(f\"{var}: \")\n",
    "\n",
    "_set_env(\"OPENAI_API_KEY\")\n",
    "_set_env(\"WXG_API_KEY\")"
   ]
  },
  {
   "cell_type": "markdown",
   "metadata": {},
   "source": [
    "### Set up the local vector store\n",
    "\n",
    "We have created a local vector store comprising of a few medium posts by [Manish Bhide](https://medium.com/@manish.bhide) and [Ravi Chamarthy](https://medium.com/@ravi-chamarthy). These posts focus on the various capabilities in IBM watsonx.governance (and erstwhile IBM Watson OpenScale). Hence, our queries will focus on these capabilities covered in the above posts. \n",
    "\n",
    "For user's convenience, the vector store has been compressed. The following cell downloads the compressed file, extracts it locally, and initializes the Chroma store. "
   ]
  },
  {
   "cell_type": "code",
   "execution_count": 2,
   "metadata": {},
   "outputs": [
    {
     "name": "stdout",
     "output_type": "stream",
     "text": [
      "rm: medium_db.zip: No such file or directory\n",
      "rm: medium_db/: No such file or directory\n",
      "--2025-03-28 15:17:54--  https://github.com/IBM/ibm-watsonx-gov/raw/refs/heads/samples/notebooks/data/agentic/medium_db.zip\n",
      "20.207.73.82thub.com (github.com)... \n",
      "connected. to github.com (github.com)|20.207.73.82|:443... \n",
      "HTTP request sent, awaiting response... 302 Found\n",
      "Location: https://raw.githubusercontent.com/IBM/ibm-watsonx-gov/refs/heads/samples/notebooks/data/agentic/medium_db.zip [following]\n",
      "--2025-03-28 15:17:55--  https://raw.githubusercontent.com/IBM/ibm-watsonx-gov/refs/heads/samples/notebooks/data/agentic/medium_db.zip\n",
      "Resolving raw.githubusercontent.com (raw.githubusercontent.com)... 185.199.108.133, 185.199.109.133, 185.199.110.133, ...\n",
      "connected. to raw.githubusercontent.com (raw.githubusercontent.com)|185.199.108.133|:443... \n",
      "HTTP request sent, awaiting response... 200 OK\n",
      "Length: 1203223 (1.1M) [application/zip]\n",
      "Saving to: ‘medium_db.zip’\n",
      "\n",
      "medium_db.zip       100%[===================>]   1.15M   928KB/s    in 1.3s    \n",
      "\n",
      "2025-03-28 15:17:57 (928 KB/s) - ‘medium_db.zip’ saved [1203223/1203223]\n",
      "\n"
     ]
    }
   ],
   "source": [
    "%rm medium_db.zip\n",
    "%rm -r medium_db/\n",
    "\n",
    "!wget https://github.com/IBM/ibm-watsonx-gov/raw/refs/heads/samples/notebooks/data/agentic/medium_db.zip"
   ]
  },
  {
   "cell_type": "code",
   "execution_count": 3,
   "metadata": {},
   "outputs": [],
   "source": [
    "import zipfile\n",
    "\n",
    "with zipfile.ZipFile(\"medium_db.zip\", \"r\") as zip_ref:\n",
    "    zip_ref.extractall(\".\")"
   ]
  },
  {
   "cell_type": "code",
   "execution_count": 4,
   "metadata": {},
   "outputs": [],
   "source": [
    "from langchain_chroma import Chroma\n",
    "from langchain_openai import OpenAIEmbeddings\n",
    "\n",
    "openai_embed_model = OpenAIEmbeddings(model=\"text-embedding-3-small\")\n",
    "\n",
    "vector_store = Chroma(\n",
    "    collection_name=\"medium_articles\",\n",
    "    embedding_function=openai_embed_model,\n",
    "    persist_directory=\"./medium_db\"\n",
    ")"
   ]
  },
  {
   "cell_type": "markdown",
   "metadata": {},
   "source": [
    "### Set up the State\n",
    "\n",
    "The `ibm-watsonx-gov` library provides a pydantic based state class - `EvaluationState`. This provides various attributes for your use e.g. `input_text` is for storing the application input, `context` is for storing the context documents. For simple applications, developers can extend this class for their use. "
   ]
  },
  {
   "cell_type": "code",
   "execution_count": 5,
   "metadata": {},
   "outputs": [],
   "source": [
    "from ibm_watsonx_gov.entities.state import EvaluationState\n",
    "\n",
    "class AppState(EvaluationState):\n",
    "    pass"
   ]
  },
  {
   "cell_type": "markdown",
   "metadata": {},
   "source": [
    "### Set up the evaluator\n",
    "\n",
    "For evaluating your Agentic AI applications, you need to first instantiate the `AgenticEvaluation` class. This class defines a few evaluators to compute the different metrics.\n",
    "\n",
    "We are going to use the following evaluators in this notebook:\n",
    "1. `evaluate_context_relevance` : To compute context relevance metric of your content retrieval tool.\n",
    "2. `evaluate_faithfulness`: To compute faithfulness metric of your answer generation tool. This metric does not require ground truth.\n",
    "3. `evaluate_answer_similarity`: To compute answer similarity metric of your answer generation tool. This metric requires ground truth for computation.\n"
   ]
  },
  {
   "cell_type": "code",
   "execution_count": 6,
   "metadata": {},
   "outputs": [],
   "source": [
    "from ibm_watsonx_gov.evaluate.agentic_evaluation import AgenticEvaluation\n",
    "\n",
    "evaluator = AgenticEvaluation()"
   ]
  },
  {
   "cell_type": "markdown",
   "metadata": {},
   "source": [
    "### Build your langgraph application"
   ]
  },
  {
   "cell_type": "code",
   "execution_count": 7,
   "metadata": {},
   "outputs": [],
   "source": [
    "from langchain_core.prompts import ChatPromptTemplate\n",
    "from langchain_openai import ChatOpenAI\n",
    "from langgraph.config import RunnableConfig"
   ]
  },
  {
   "cell_type": "markdown",
   "metadata": {},
   "source": [
    "#### Define content retrieval node\n",
    "\n",
    "We are using a Similarity with Threshold Retrieval strategy. This will fetch the top 3 documents matching the query if the threshold score is more than 0.1\n",
    "\n",
    "The `retrieval_node` tool defined below is decorated with IBM watsonx.governance evaluator `evaluate_context_relevance` tool to compute the context relevance metric. This node reads the user query from the `input_text` attribute from the application state and writes the result into the `context` attribute back to the application state."
   ]
  },
  {
   "cell_type": "code",
   "execution_count": 8,
   "metadata": {},
   "outputs": [],
   "source": [
    "@evaluator.evaluate_context_relevance\n",
    "def retrieval_node(state: AppState, config: RunnableConfig):\n",
    "    similarity_threshold_retriever = vector_store.as_retriever(search_type=\"similarity_score_threshold\",\n",
    "                                                               search_kwargs={\"k\": 3,\n",
    "                                                                              \"score_threshold\": 0.1})\n",
    "    context = similarity_threshold_retriever.invoke(state.input_text)\n",
    "    return {\n",
    "        \"context\": [doc.page_content for doc in context]\n",
    "    }"
   ]
  },
  {
   "cell_type": "markdown",
   "metadata": {},
   "source": [
    "#### Define answer generation tool\n",
    "\n",
    "We are using `gpt-4o-mini` to generate an answer for our query.\n",
    "\n",
    "The `generate_node` defined below is decorated with two evaluators `evaluate_faithfulness` and `evaluate_answer_similarity` for computing answer quality metrics. Like in the previous cell, this node reads the user query from the `input_text` attribute from the application state, the `context` attribute consists of the context chunks. After generating the answer, the node writes the result into the `generated_text` attribute back to the application state."
   ]
  },
  {
   "cell_type": "code",
   "execution_count": 9,
   "metadata": {},
   "outputs": [],
   "source": [
    "@evaluator.evaluate_faithfulness\n",
    "@evaluator.evaluate_answer_similarity\n",
    "def generate_node(state: AppState, config: RunnableConfig):\n",
    "    generate_prompt = ChatPromptTemplate.from_template(\n",
    "        \"Answer the following question based on the given context:\\n\"\n",
    "        \"Context: {context}\\n\"\n",
    "        \"Question: {input_text}\\n\"\n",
    "        \"Answer:\"\n",
    "    )\n",
    "\n",
    "    formatted_prompt = generate_prompt.invoke(\n",
    "        {\"input_text\": state.input_text, \"context\": \"\\n\".join(state.context)})\n",
    "    llm = ChatOpenAI(model=\"gpt-4o-mini\")\n",
    "    result = llm.invoke(formatted_prompt)\n",
    "    return {\n",
    "        \"generated_text\": result.content\n",
    "    }"
   ]
  },
  {
   "cell_type": "markdown",
   "metadata": {},
   "source": [
    "#### Assemble your application"
   ]
  },
  {
   "cell_type": "code",
   "execution_count": 18,
   "metadata": {},
   "outputs": [
    {
     "name": "stderr",
     "output_type": "stream",
     "text": [
      "huggingface/tokenizers: The current process just got forked, after parallelism has already been used. Disabling parallelism to avoid deadlocks...\n",
      "To disable this warning, you can either:\n",
      "\t- Avoid using `tokenizers` before the fork if possible\n",
      "\t- Explicitly set the environment variable TOKENIZERS_PARALLELISM=(true | false)\n"
     ]
    },
    {
     "data": {
      "image/png": "[encoded data removed]",
      "text/plain": [
       "<IPython.core.display.Image object>"
      ]
     },
     "metadata": {
      "image/png": {
       "height": 100,
       "width": 150
      }
     },
     "output_type": "display_data"
    }
   ],
   "source": [
    "from langgraph.graph import START, END, StateGraph\n",
    "\n",
    "graph = StateGraph(AppState)\n",
    "\n",
    "# Add nodes\n",
    "graph.add_node(\"Retrieval \\nNode\", retrieval_node)\n",
    "graph.add_node(\"Generation \\nNode\", generate_node)\n",
    "\n",
    "# Add edges\n",
    "graph.add_edge(START, \"Retrieval \\nNode\")\n",
    "graph.add_edge(\"Retrieval \\nNode\", \"Generation \\nNode\")\n",
    "graph.add_edge(\"Generation \\nNode\", END)\n",
    "\n",
    "# Compile the graph\n",
    "rag_app = graph.compile()\n",
    "\n",
    "# Show\n",
    "import nest_asyncio\n",
    "from IPython.display import Image, display\n",
    "from langchain_core.runnables.graph import CurveStyle, MermaidDrawMethod, NodeStyles\n",
    "nest_asyncio.apply()  # Required for Jupyter Notebook to run async functions\n",
    "\n",
    "display(\n",
    "    Image(\n",
    "        rag_app.get_graph().draw_mermaid_png(\n",
    "            curve_style=CurveStyle.NATURAL,\n",
    "            node_colors=NodeStyles(first=\"#ffdfba\", last=\"#baffc9\", default=\"#fad7de\"),\n",
    "            wrap_label_n_words=9,\n",
    "            output_file_path=None,\n",
    "            draw_method=MermaidDrawMethod.PYPPETEER,\n",
    "            background_color=\"white\",\n",
    "            padding=5,\n",
    "        ),\n",
    "        width=150,  # Image width in pixels\n",
    "        height=100  # Image height in pixels\n",
    "    )\n",
    ")"
   ]
  },
  {
   "cell_type": "markdown",
   "metadata": {},
   "source": [
    "### Do a single invocation\n",
    "\n",
    "Now the application is invoked for a single row of data. You will see two new keys as the input:\n",
    "1. `ground_truth`: As the name suggests, this attribute holds the ground truth for your input text. This is needed for the answer similarity metric, which is a reference based metric. For the other metrics, this is not required.\n",
    "2. `record_id`: This is required so that IBM watsonx.governance can keep track of individual rows and associate metrics with each row. This will become evident when we do batch invocation in the next cell."
   ]
  },
  {
   "cell_type": "code",
   "execution_count": 11,
   "metadata": {},
   "outputs": [],
   "source": [
    "result = rag_app.invoke({\"input_text\": \"What is concept drift?\", \"ground_truth\": \"Concept drift occurs when the statistical properties of the target variable change over time, causing a machine learning model’s predictions to become less accurate.\", \"record_id\": \"12\"})"
   ]
  },
  {
   "cell_type": "markdown",
   "metadata": {},
   "source": [
    "### Prepare the app results\n",
    "By default, the metric result will only include the `record_id` column from the input data.  \n",
    "If you want to include additional data like input, output or ground_truth, you can specify them in the `input_data` parameter."
   ]
  },
  {
   "cell_type": "code",
   "execution_count": 12,
   "metadata": {},
   "outputs": [],
   "source": [
    "import pandas as pd\n",
    "\n",
    "result_df = pd.DataFrame([result])\n",
    "input_data = result_df[[\"input_text\", \"record_id\", \"generated_text\"]] # Add the columns which should be part of the application metric results\n",
    "metric_result = evaluator.get_metrics_df(input_data=input_data)"
   ]
  },
  {
   "cell_type": "markdown",
   "metadata": {},
   "source": [
    "### Display the metric results"
   ]
  },
  {
   "cell_type": "code",
   "execution_count": 13,
   "metadata": {},
   "outputs": [
    {
     "data": {
      "application/vnd.jupyter.widget-view+json": {
       "model_id": "abcc5ab9fb5c417c97e1a684e0fd258e",
       "version_major": 2,
       "version_minor": 1
      },
      "text/plain": [
       "ITable(caption='Records', classes='display nowrap compact violations_table', style='table-layout:auto;width:au…"
      ]
     },
     "metadata": {},
     "output_type": "display_data"
    }
   ],
   "source": [
    "from ibm_watsonx_gov.visualizations.visualization_utils import display_table\n",
    "\n",
    "display_table(metric_result)"
   ]
  },
  {
   "cell_type": "markdown",
   "metadata": {},
   "source": [
    "### Invoke the graph on multiple rows\n",
    "\n",
    "IBM watsonx.governance evaluation of Agentic Applications can be done with batch invocation too. Here, a dataframe with questions and ground truths for those questions have been defined. The dataframe index has been used as  `record_id` to uniquely identify each row. "
   ]
  },
  {
   "cell_type": "code",
   "execution_count": null,
   "metadata": {},
   "outputs": [],
   "source": [
    "import pandas as pd\n",
    "\n",
    "question_bank_df = pd.read_csv(\"https://raw.githubusercontent.com/IBM/ibm-watsonx-gov/refs/heads/samples/notebooks/data/agentic/medium_question_bank.csv\")\n",
    "question_bank_df[\"record_id\"] = question_bank_df.index.astype(str)\n",
    "question_bank_df"
   ]
  },
  {
   "cell_type": "markdown",
   "metadata": {},
   "source": [
    "### Display the metric results"
   ]
  },
  {
   "cell_type": "code",
   "execution_count": null,
   "metadata": {},
   "outputs": [],
   "source": [
    "result = rag_app.batch(inputs=question_bank_df.to_dict(\"records\"))"
   ]
  },
  {
   "cell_type": "code",
   "execution_count": null,
   "metadata": {},
   "outputs": [],
   "source": [
    "result_df = pd.DataFrame(result)\n",
    "input_data = result_df[[\"input_text\", \"record_id\"]] # Add the columns which should be part of the application metric results\n",
    "metric_result = evaluator.get_metrics_df(input_data=input_data)\n",
    "\n",
    "display_table(metric_result)"
   ]
  },
  {
   "cell_type": "markdown",
   "metadata": {},
   "source": [
    "### CHANGELOG\n",
    "\n",
    "#### [0.0.3] - 2025-03-28\n",
    "##### Added\n",
    "- Removed `transform_to_wide_format` method and use `display_table` to show metrics results in wide and sortable format\n",
    "- Changed the graph image drawing to use pyppeteer+nest_asyncio\n",
    "\n",
    "#### [0.0.2] - 2025-03-06\n",
    "##### Added\n",
    "- `transform_to_wide_format` method to show metrics results in wide format\n",
    "- Better documentation in cells to explain various attributes of the state.\n",
    "\n",
    "#### [0.0.1] - 2025-03-01\n",
    "##### Added\n",
    "- First set of evaluator nodes from IBM watsonx.governance\n",
    "\n"
   ]
  },
  {
   "cell_type": "markdown",
   "metadata": {},
   "source": [
    "Developed by [Prem Piyush Goyal](https://www.linkedin.com/in/prempiyush/)"
   ]
  }
 ],
 "metadata": {
  "kernelspec": {
   "display_name": "Python 3 (ipykernel)",
   "language": "python",
   "name": "python3"
  },
  "language_info": {
   "codemirror_mode": {
    "name": "ipython",
    "version": 3
   },
   "file_extension": ".py",
   "mimetype": "text/x-python",
   "name": "python",
   "nbconvert_exporter": "python",
   "pygments_lexer": "ipython3",
   "version": "3.11.11"
  }
 },
 "nbformat": 4,
 "nbformat_minor": 4
}
