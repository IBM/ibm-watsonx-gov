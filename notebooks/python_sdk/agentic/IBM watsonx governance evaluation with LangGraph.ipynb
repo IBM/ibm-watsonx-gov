{
 "cells": [
  {
   "cell_type": "markdown",
   "metadata": {},
   "source": [
    "# IBM watsonx.governance evaluation of Agentic App developed using Langgraph\n",
    "\n",
    "This notebook demonstrates how to use the Agentic AI evaluators from IBM watsonx.governance for governing your applications right in your development environment.\n",
    "\n",
    "The sample app shown here is an Agentic RAG example for querying information about IBM watsonx.governance capabilities. It makes use of OpenAI's `gpt-4o-mini` LLM for answer generation, and `text-embedding-3-small` embedding model for converting the queries to embeddings. \n"
   ]
  },
  {
   "cell_type": "markdown",
   "metadata": {},
   "source": [
    "### Install the dependencies"
   ]
  },
  {
   "cell_type": "code",
   "execution_count": 1,
   "metadata": {},
   "outputs": [
    {
     "name": "stdout",
     "output_type": "stream",
     "text": [
      "Note: you may need to restart the kernel to use updated packages.\n"
     ]
    }
   ],
   "source": [
    "%pip install --quiet \"ibm-watsonx-gov[agentic]\" chromadb langchain-chroma langchain-openai"
   ]
  },
  {
   "cell_type": "markdown",
   "metadata": {},
   "source": [
    "### Accept the credentials"
   ]
  },
  {
   "cell_type": "markdown",
   "metadata": {},
   "source": [
    "The following code snippet ensures that specific environment variables are set without being hardcoded in the script. It does so by prompting the user for input only if the variables are not already set.\n",
    "\n",
    "The environment variables need to be set are:\n",
    "\n",
    "1. **OPENAI_API_KEY:** This is required for Open AI capabilities.\n",
    "2. **WXG_API_KEY:** This is required for IBM watsonx.governance capabilities.\n",
    "\n",
    "Optionally, if you are using IBM watsonx.governance as a service in a regional data center other than **Dallas (us-south), in Texas US**, you need to set  **WXG_URL**. You can check the regional availability of the watsonx services [here](https://www.ibm.com/docs/en/watsonx/saas?topic=integrations-regional-availability-cloud#regional-availability-of-the-watsonx-services)"
   ]
  },
  {
   "cell_type": "code",
   "execution_count": 2,
   "metadata": {},
   "outputs": [],
   "source": [
    "import os, getpass\n",
    "\n",
    "def _set_env(var: str):\n",
    "    if not os.environ.get(var):\n",
    "        os.environ[var] = getpass.getpass(f\"{var}: \")\n",
    "\n",
    "_set_env(\"OPENAI_API_KEY\")\n",
    "_set_env(\"WXG_API_KEY\")"
   ]
  },
  {
   "cell_type": "markdown",
   "metadata": {},
   "source": [
    "### Set up the local vector store\n",
    "\n",
    "We have created a local vector store comprising of a few medium posts by [Manish Bhide](https://medium.com/@manish.bhide) and [Ravi Chamarthy](https://medium.com/@ravi-chamarthy). These posts focus on the various capabilities in IBM watsonx.governance (and erstwhile IBM Watson OpenScale). Hence, our queries will focus on these capabilities covered in the above posts. \n",
    "\n",
    "For user's convenience, the vector store has been compressed. The following cell downloads the compressed file, extracts it locally, and initializes the Chroma store. "
   ]
  },
  {
   "cell_type": "code",
   "execution_count": 3,
   "metadata": {},
   "outputs": [
    {
     "name": "stdout",
     "output_type": "stream",
     "text": [
      "--2025-03-06 17:13:09--  https://github.com/IBM/ibm-watsonx-gov/raw/refs/heads/samples/notebooks/data/agentic/medium_db.zip\n",
      "Resolving github.com (github.com)... 20.207.73.82\n",
      "Connecting to github.com (github.com)|20.207.73.82|:443... connected.\n",
      "HTTP request sent, awaiting response... 302 Found\n",
      "Location: https://raw.githubusercontent.com/IBM/ibm-watsonx-gov/refs/heads/samples/notebooks/data/agentic/medium_db.zip [following]\n",
      "--2025-03-06 17:13:09--  https://raw.githubusercontent.com/IBM/ibm-watsonx-gov/refs/heads/samples/notebooks/data/agentic/medium_db.zip\n",
      "Resolving raw.githubusercontent.com (raw.githubusercontent.com)... 185.199.111.133, 185.199.108.133, 185.199.110.133, ...\n",
      "Connecting to raw.githubusercontent.com (raw.githubusercontent.com)|185.199.111.133|:443... connected.\n",
      "HTTP request sent, awaiting response... 200 OK\n",
      "Length: 1203223 (1.1M) [application/zip]\n",
      "Saving to: ‘medium_db.zip’\n",
      "\n",
      "medium_db.zip       100%[===================>]   1.15M  --.-KB/s    in 0.1s    \n",
      "\n",
      "2025-03-06 17:13:10 (10.4 MB/s) - ‘medium_db.zip’ saved [1203223/1203223]\n",
      "\n"
     ]
    }
   ],
   "source": [
    "%rm medium_db.zip\n",
    "%rm -r medium_db/\n",
    "\n",
    "!wget https://github.com/IBM/ibm-watsonx-gov/raw/refs/heads/samples/notebooks/data/agentic/medium_db.zip"
   ]
  },
  {
   "cell_type": "code",
   "execution_count": 4,
   "metadata": {},
   "outputs": [],
   "source": [
    "import zipfile\n",
    "\n",
    "with zipfile.ZipFile(\"medium_db.zip\", \"r\") as zip_ref:\n",
    "    zip_ref.extractall(\".\")"
   ]
  },
  {
   "cell_type": "code",
   "execution_count": 5,
   "metadata": {},
   "outputs": [],
   "source": [
    "import chromadb\n",
    "from langchain_chroma import Chroma\n",
    "from langchain_openai import OpenAIEmbeddings\n",
    "\n",
    "client = chromadb.PersistentClient(path=\"./medium_db\")\n",
    "collection = client.get_or_create_collection(\"medium_articles\")\n",
    "\n",
    "openai_embed_model = OpenAIEmbeddings(model=\"text-embedding-3-small\")\n",
    "\n",
    "vector_store = Chroma(\n",
    "    collection_name=\"medium_articles\",\n",
    "    embedding_function=openai_embed_model,\n",
    "    persist_directory=\"./medium_db\"\n",
    ")"
   ]
  },
  {
   "cell_type": "markdown",
   "metadata": {},
   "source": [
    "### Set up the State\n",
    "\n",
    "The `ibm-watsonx-gov` library provides a pydantic based state class - `EvaluationState`. This provides various attributes for your use e.g. `input_text` is for storing the application input, `context` is for storing the context documents. For simple applications, developers can extend this class for their use. "
   ]
  },
  {
   "cell_type": "code",
   "execution_count": 6,
   "metadata": {},
   "outputs": [],
   "source": [
    "from ibm_watsonx_gov.entities.state import EvaluationState\n",
    "\n",
    "class AppState(EvaluationState):\n",
    "    pass"
   ]
  },
  {
   "cell_type": "markdown",
   "metadata": {},
   "source": [
    "### Set up the evaluator\n",
    "\n",
    "For evaluating your Agentic AI applications, you need to first instantiate the `AgenticEvaluation` class. This class defines a few evaluators to compute the different metrics.\n",
    "\n",
    "We are going to use the following evaluators in this notebook:\n",
    "1. `evaluate_context_relevance` : To compute context relevance metric of your content retrieval tool.\n",
    "2. `evaluate_faithfulness`: To compute faithfulness metric of your answer generation tool. This metric does not require ground truth.\n",
    "3. `evaluate_answer_similarity`: To compute answer similarity metric of your answer generation tool. This metric requires ground truth for computation.\n"
   ]
  },
  {
   "cell_type": "code",
   "execution_count": 7,
   "metadata": {},
   "outputs": [
    {
     "name": "stderr",
     "output_type": "stream",
     "text": [
      "/Users/prempiyush/work/code/test_app/.tmp_venv/lib/python3.11/site-packages/tqdm/auto.py:21: TqdmWarning: IProgress not found. Please update jupyter and ipywidgets. See https://ipywidgets.readthedocs.io/en/stable/user_install.html\n",
      "  from .autonotebook import tqdm as notebook_tqdm\n"
     ]
    }
   ],
   "source": [
    "from ibm_watsonx_gov.evaluate.agentic_evaluation import AgenticEvaluation\n",
    "\n",
    "evaluator = AgenticEvaluation()"
   ]
  },
  {
   "cell_type": "markdown",
   "metadata": {},
   "source": [
    "### Build your langgraph application"
   ]
  },
  {
   "cell_type": "code",
   "execution_count": 8,
   "metadata": {},
   "outputs": [],
   "source": [
    "from langchain_core.prompts import ChatPromptTemplate\n",
    "from langchain_openai import ChatOpenAI\n",
    "from langgraph.config import RunnableConfig"
   ]
  },
  {
   "cell_type": "markdown",
   "metadata": {},
   "source": [
    "#### Define content retrieval node\n",
    "\n",
    "We are using a Similarity with Threshold Retrieval strategy. This will fetch the top 3 documents matching the query if the threshold score is more than 0.1\n",
    "\n",
    "The `retrieval_node` tool defined below is decorated with IBM watsonx.governance evaluator `evaluate_context_relevance` tool to compute the context relevance metric. This node reads the user query from the `input_text` attribute from the application state and writes the result into the `context` attribute back to the application state."
   ]
  },
  {
   "cell_type": "code",
   "execution_count": 9,
   "metadata": {},
   "outputs": [],
   "source": [
    "@evaluator.evaluate_context_relevance\n",
    "def retrieval_node(state: AppState, config: RunnableConfig):\n",
    "    similarity_threshold_retriever = vector_store.as_retriever(search_type=\"similarity_score_threshold\",\n",
    "                                                               search_kwargs={\"k\": 3,\n",
    "                                                                              \"score_threshold\": 0.1})\n",
    "    context = similarity_threshold_retriever.invoke(state.input_text)\n",
    "    return {\n",
    "        \"context\": [doc.page_content for doc in context]\n",
    "    }"
   ]
  },
  {
   "cell_type": "markdown",
   "metadata": {},
   "source": [
    "#### Define answer generation tool\n",
    "\n",
    "We are using `gpt-4o-mini` to generate an answer for our query.\n",
    "\n",
    "The `generate_node` defined below is decorated with two evaluators `evaluate_faithfulness` and `evaluate_answer_similarity` for computing answer quality metrics. Like in the previous cell, this node reads the user query from the `input_text` attribute from the application state, the `context` attribute consists of the context chunks. After generating the answer, the node writes the result into the `generated_text` attribute back to the application state."
   ]
  },
  {
   "cell_type": "code",
   "execution_count": 10,
   "metadata": {},
   "outputs": [],
   "source": [
    "@evaluator.evaluate_faithfulness\n",
    "@evaluator.evaluate_answer_similarity\n",
    "def generate_node(state: AppState, config: RunnableConfig):\n",
    "    generate_prompt = ChatPromptTemplate.from_template(\n",
    "        \"Answer the following question based on the given context:\\n\"\n",
    "        \"Context: {context}\\n\"\n",
    "        \"Question: {input_text}\\n\"\n",
    "        \"Answer:\"\n",
    "    )\n",
    "\n",
    "    formatted_prompt = generate_prompt.invoke(\n",
    "        {\"input_text\": state.input_text, \"context\": \"\\n\".join(state.context)})\n",
    "    llm = ChatOpenAI(model=\"gpt-4o-mini\")\n",
    "    result = llm.invoke(formatted_prompt)\n",
    "    return {\n",
    "        \"generated_text\": result.content\n",
    "    }"
   ]
  },
  {
   "cell_type": "markdown",
   "metadata": {},
   "source": [
    "#### Assemble your application"
   ]
  },
  {
   "cell_type": "code",
   "execution_count": 11,
   "metadata": {},
   "outputs": [
    {
     "data": {
      "image/png": "[encoded data removed]",
      "text/plain": [
       "<IPython.core.display.Image object>"
      ]
     },
     "metadata": {},
     "output_type": "display_data"
    }
   ],
   "source": [
    "from langgraph.graph import START, END, StateGraph\n",
    "\n",
    "graph = StateGraph(AppState)\n",
    "\n",
    "# Add nodes\n",
    "graph.add_node(\"Retrieval \\nNode\", retrieval_node)\n",
    "graph.add_node(\"Generation \\nNode\", generate_node)\n",
    "\n",
    "# Add edges\n",
    "graph.add_edge(START, \"Retrieval \\nNode\")\n",
    "graph.add_edge(\"Retrieval \\nNode\", \"Generation \\nNode\")\n",
    "graph.add_edge(\"Generation \\nNode\", END)\n",
    "\n",
    "# Compile the graph\n",
    "rag_app = graph.compile()\n",
    "\n",
    "# Show\n",
    "from IPython.display import Image, display\n",
    "display(Image(rag_app.get_graph(xray=True).draw_mermaid_png()))\n"
   ]
  },
  {
   "cell_type": "markdown",
   "metadata": {},
   "source": [
    "### Do a single invocation\n",
    "\n",
    "Now the application is invoked for a single row of data. You will see two new keys as the input:\n",
    "1. `ground_truth`: As the name suggests, this attribute holds the ground truth for your input text. This is needed for the answer similarity metric, which is a reference based metric. For the other metrics, this is not required.\n",
    "2. `record_id`: This is required so that IBM watsonx.governance can keep track of individual rows and associate metrics with each row. This will become evident when we do batch invocation in the next cell."
   ]
  },
  {
   "cell_type": "code",
   "execution_count": 12,
   "metadata": {},
   "outputs": [
    {
     "data": {
      "text/html": [
       "<div>\n",
       "<style scoped>\n",
       "    .dataframe tbody tr th:only-of-type {\n",
       "        vertical-align: middle;\n",
       "    }\n",
       "\n",
       "    .dataframe tbody tr th {\n",
       "        vertical-align: top;\n",
       "    }\n",
       "\n",
       "    .dataframe thead th {\n",
       "        text-align: right;\n",
       "    }\n",
       "</style>\n",
       "<table border=\"1\" class=\"dataframe\">\n",
       "  <thead>\n",
       "    <tr style=\"text-align: right;\">\n",
       "      <th></th>\n",
       "      <th>record_id</th>\n",
       "      <th>generate_node.answer_similarity</th>\n",
       "      <th>generate_node.faithfulness</th>\n",
       "      <th>generate_node.tool_latency (s)</th>\n",
       "      <th>retrieval_node.context_relevance</th>\n",
       "      <th>retrieval_node.tool_latency (s)</th>\n",
       "    </tr>\n",
       "  </thead>\n",
       "  <tbody>\n",
       "    <tr>\n",
       "      <th>0</th>\n",
       "      <td>12</td>\n",
       "      <td>0.905128</td>\n",
       "      <td>0.309998</td>\n",
       "      <td>3.85788</td>\n",
       "      <td>0.182579</td>\n",
       "      <td>1.374972</td>\n",
       "    </tr>\n",
       "  </tbody>\n",
       "</table>\n",
       "</div>"
      ],
      "text/plain": [
       "  record_id  generate_node.answer_similarity  generate_node.faithfulness  \\\n",
       "0        12                         0.905128                    0.309998   \n",
       "\n",
       "   generate_node.tool_latency (s)  retrieval_node.context_relevance  \\\n",
       "0                         3.85788                          0.182579   \n",
       "\n",
       "   retrieval_node.tool_latency (s)  \n",
       "0                         1.374972  "
      ]
     },
     "execution_count": 12,
     "metadata": {},
     "output_type": "execute_result"
    }
   ],
   "source": [
    "result = rag_app.invoke({\"input_text\": \"What is concept drift?\", \"ground_truth\": \"Concept drift occurs when the statistical properties of the target variable change over time, causing a machine learning model’s predictions to become less accurate.\", \"record_id\": \"12\"})\n",
    "\n",
    "def transform_to_wide_format(df):\n",
    "    \"\"\"Convert the metrics dataframe into wide format\"\"\"\n",
    "    df[\"idx\"] = df.apply(\n",
    "        lambda row: f\"{row['tool_name']}.{row['name']}\", axis=1\n",
    "    )\n",
    "    \n",
    "    # Pivot the table\n",
    "    df_wide = df.pivot(\n",
    "        index=\"record_id\",\n",
    "        columns=\"idx\",\n",
    "        values=\"value\"\n",
    "    ).reset_index().rename_axis(\"\", axis=1)\n",
    "    \n",
    "    return df_wide\n",
    "\n",
    "transform_to_wide_format(evaluator.get_metrics_df())"
   ]
  },
  {
   "cell_type": "markdown",
   "metadata": {},
   "source": [
    "### Invoke the graph on multiple rows\n",
    "\n",
    "IBM watsonx.governance evaluation of Agentic Applications can be done with batch invocation too. Here, a dataframe with questions and ground truths for those questions have been defined. The dataframe index has been used as  `record_id` to uniquely identify each row. "
   ]
  },
  {
   "cell_type": "code",
   "execution_count": 13,
   "metadata": {},
   "outputs": [
    {
     "data": {
      "text/html": [
       "<div>\n",
       "<style scoped>\n",
       "    .dataframe tbody tr th:only-of-type {\n",
       "        vertical-align: middle;\n",
       "    }\n",
       "\n",
       "    .dataframe tbody tr th {\n",
       "        vertical-align: top;\n",
       "    }\n",
       "\n",
       "    .dataframe thead th {\n",
       "        text-align: right;\n",
       "    }\n",
       "</style>\n",
       "<table border=\"1\" class=\"dataframe\">\n",
       "  <thead>\n",
       "    <tr style=\"text-align: right;\">\n",
       "      <th></th>\n",
       "      <th>input_text</th>\n",
       "      <th>ground_truth</th>\n",
       "      <th>record_id</th>\n",
       "    </tr>\n",
       "  </thead>\n",
       "  <tbody>\n",
       "    <tr>\n",
       "      <th>0</th>\n",
       "      <td>What is counterfactual fairness?</td>\n",
       "      <td>Counterfactual fairness is a fairness criterio...</td>\n",
       "      <td>0</td>\n",
       "    </tr>\n",
       "    <tr>\n",
       "      <th>1</th>\n",
       "      <td>How does IBM watsonx.governance check for prom...</td>\n",
       "      <td>IBM watsonx.governance runs your prompt throug...</td>\n",
       "      <td>1</td>\n",
       "    </tr>\n",
       "    <tr>\n",
       "      <th>2</th>\n",
       "      <td>What are various IBM watsonx.governance capabi...</td>\n",
       "      <td>IBM watsonx.governance is an automated toolkit...</td>\n",
       "      <td>2</td>\n",
       "    </tr>\n",
       "    <tr>\n",
       "      <th>3</th>\n",
       "      <td>What does Grafana do?</td>\n",
       "      <td>Grafana is an open-source tool for visualizing...</td>\n",
       "      <td>3</td>\n",
       "    </tr>\n",
       "    <tr>\n",
       "      <th>4</th>\n",
       "      <td>What is concept drift?</td>\n",
       "      <td>Concept drift occurs when the statistical prop...</td>\n",
       "      <td>4</td>\n",
       "    </tr>\n",
       "    <tr>\n",
       "      <th>5</th>\n",
       "      <td>What does IBM watsonx.governance Evaluation St...</td>\n",
       "      <td>IBM watsonx.governance Evaluation Studio enabl...</td>\n",
       "      <td>5</td>\n",
       "    </tr>\n",
       "    <tr>\n",
       "      <th>6</th>\n",
       "      <td>How can technology help in process governance?</td>\n",
       "      <td>It can help define, automate and govern the pr...</td>\n",
       "      <td>6</td>\n",
       "    </tr>\n",
       "    <tr>\n",
       "      <th>7</th>\n",
       "      <td>What are the challenges with AI model validation?</td>\n",
       "      <td>Software execs boast about robust deployment p...</td>\n",
       "      <td>7</td>\n",
       "    </tr>\n",
       "    <tr>\n",
       "      <th>8</th>\n",
       "      <td>What are the different steps in AI Lifecycle?</td>\n",
       "      <td>The AI lifecycle consists of several key steps...</td>\n",
       "      <td>8</td>\n",
       "    </tr>\n",
       "    <tr>\n",
       "      <th>9</th>\n",
       "      <td>What is Azure Databricks?</td>\n",
       "      <td>This cloud-based platform, built on Apache Spa...</td>\n",
       "      <td>9</td>\n",
       "    </tr>\n",
       "  </tbody>\n",
       "</table>\n",
       "</div>"
      ],
      "text/plain": [
       "                                          input_text  \\\n",
       "0                   What is counterfactual fairness?   \n",
       "1  How does IBM watsonx.governance check for prom...   \n",
       "2  What are various IBM watsonx.governance capabi...   \n",
       "3                              What does Grafana do?   \n",
       "4                             What is concept drift?   \n",
       "5  What does IBM watsonx.governance Evaluation St...   \n",
       "6     How can technology help in process governance?   \n",
       "7  What are the challenges with AI model validation?   \n",
       "8      What are the different steps in AI Lifecycle?   \n",
       "9                          What is Azure Databricks?   \n",
       "\n",
       "                                        ground_truth record_id  \n",
       "0  Counterfactual fairness is a fairness criterio...         0  \n",
       "1  IBM watsonx.governance runs your prompt throug...         1  \n",
       "2  IBM watsonx.governance is an automated toolkit...         2  \n",
       "3  Grafana is an open-source tool for visualizing...         3  \n",
       "4  Concept drift occurs when the statistical prop...         4  \n",
       "5  IBM watsonx.governance Evaluation Studio enabl...         5  \n",
       "6  It can help define, automate and govern the pr...         6  \n",
       "7  Software execs boast about robust deployment p...         7  \n",
       "8  The AI lifecycle consists of several key steps...         8  \n",
       "9  This cloud-based platform, built on Apache Spa...         9  "
      ]
     },
     "execution_count": 13,
     "metadata": {},
     "output_type": "execute_result"
    }
   ],
   "source": [
    "import pandas as pd\n",
    "\n",
    "question_bank_df = pd.read_csv(\"https://raw.githubusercontent.com/IBM/ibm-watsonx-gov/refs/heads/samples/notebooks/data/agentic/medium_question_bank.csv\")\n",
    "question_bank_df[\"record_id\"] = question_bank_df.index.astype(str)\n",
    "question_bank_df"
   ]
  },
  {
   "cell_type": "code",
   "execution_count": 14,
   "metadata": {},
   "outputs": [
    {
     "data": {
      "text/html": [
       "<div>\n",
       "<style scoped>\n",
       "    .dataframe tbody tr th:only-of-type {\n",
       "        vertical-align: middle;\n",
       "    }\n",
       "\n",
       "    .dataframe tbody tr th {\n",
       "        vertical-align: top;\n",
       "    }\n",
       "\n",
       "    .dataframe thead th {\n",
       "        text-align: right;\n",
       "    }\n",
       "</style>\n",
       "<table border=\"1\" class=\"dataframe\">\n",
       "  <thead>\n",
       "    <tr style=\"text-align: right;\">\n",
       "      <th></th>\n",
       "      <th>record_id</th>\n",
       "      <th>generate_node.answer_similarity</th>\n",
       "      <th>generate_node.faithfulness</th>\n",
       "      <th>generate_node.tool_latency (s)</th>\n",
       "      <th>retrieval_node.context_relevance</th>\n",
       "      <th>retrieval_node.tool_latency (s)</th>\n",
       "    </tr>\n",
       "  </thead>\n",
       "  <tbody>\n",
       "    <tr>\n",
       "      <th>0</th>\n",
       "      <td>0</td>\n",
       "      <td>0.900887</td>\n",
       "      <td>0.883778</td>\n",
       "      <td>3.719913</td>\n",
       "      <td>0.707973</td>\n",
       "      <td>1.135526</td>\n",
       "    </tr>\n",
       "    <tr>\n",
       "      <th>1</th>\n",
       "      <td>1</td>\n",
       "      <td>0.923669</td>\n",
       "      <td>0.782214</td>\n",
       "      <td>1.704725</td>\n",
       "      <td>0.706106</td>\n",
       "      <td>0.834535</td>\n",
       "    </tr>\n",
       "    <tr>\n",
       "      <th>2</th>\n",
       "      <td>12</td>\n",
       "      <td>0.905128</td>\n",
       "      <td>0.309998</td>\n",
       "      <td>3.857880</td>\n",
       "      <td>0.182579</td>\n",
       "      <td>1.374972</td>\n",
       "    </tr>\n",
       "    <tr>\n",
       "      <th>3</th>\n",
       "      <td>2</td>\n",
       "      <td>0.879481</td>\n",
       "      <td>0.878904</td>\n",
       "      <td>2.485644</td>\n",
       "      <td>0.763274</td>\n",
       "      <td>0.709043</td>\n",
       "    </tr>\n",
       "    <tr>\n",
       "      <th>4</th>\n",
       "      <td>3</td>\n",
       "      <td>0.901927</td>\n",
       "      <td>0.731733</td>\n",
       "      <td>1.301571</td>\n",
       "      <td>0.434709</td>\n",
       "      <td>1.305940</td>\n",
       "    </tr>\n",
       "    <tr>\n",
       "      <th>5</th>\n",
       "      <td>4</td>\n",
       "      <td>0.907520</td>\n",
       "      <td>0.264249</td>\n",
       "      <td>2.392032</td>\n",
       "      <td>0.182579</td>\n",
       "      <td>1.584069</td>\n",
       "    </tr>\n",
       "    <tr>\n",
       "      <th>6</th>\n",
       "      <td>5</td>\n",
       "      <td>0.900531</td>\n",
       "      <td>0.923418</td>\n",
       "      <td>1.299260</td>\n",
       "      <td>0.838809</td>\n",
       "      <td>0.725473</td>\n",
       "    </tr>\n",
       "    <tr>\n",
       "      <th>7</th>\n",
       "      <td>6</td>\n",
       "      <td>0.434506</td>\n",
       "      <td>0.700174</td>\n",
       "      <td>9.047280</td>\n",
       "      <td>0.525792</td>\n",
       "      <td>0.710317</td>\n",
       "    </tr>\n",
       "    <tr>\n",
       "      <th>8</th>\n",
       "      <td>7</td>\n",
       "      <td>0.777416</td>\n",
       "      <td>0.736454</td>\n",
       "      <td>4.861366</td>\n",
       "      <td>0.715336</td>\n",
       "      <td>0.698231</td>\n",
       "    </tr>\n",
       "    <tr>\n",
       "      <th>9</th>\n",
       "      <td>8</td>\n",
       "      <td>0.896854</td>\n",
       "      <td>0.791580</td>\n",
       "      <td>3.671573</td>\n",
       "      <td>0.669930</td>\n",
       "      <td>1.219932</td>\n",
       "    </tr>\n",
       "    <tr>\n",
       "      <th>10</th>\n",
       "      <td>9</td>\n",
       "      <td>0.676614</td>\n",
       "      <td>0.695145</td>\n",
       "      <td>1.800755</td>\n",
       "      <td>0.680109</td>\n",
       "      <td>1.155828</td>\n",
       "    </tr>\n",
       "  </tbody>\n",
       "</table>\n",
       "</div>"
      ],
      "text/plain": [
       "   record_id  generate_node.answer_similarity  generate_node.faithfulness  \\\n",
       "0          0                         0.900887                    0.883778   \n",
       "1          1                         0.923669                    0.782214   \n",
       "2         12                         0.905128                    0.309998   \n",
       "3          2                         0.879481                    0.878904   \n",
       "4          3                         0.901927                    0.731733   \n",
       "5          4                         0.907520                    0.264249   \n",
       "6          5                         0.900531                    0.923418   \n",
       "7          6                         0.434506                    0.700174   \n",
       "8          7                         0.777416                    0.736454   \n",
       "9          8                         0.896854                    0.791580   \n",
       "10         9                         0.676614                    0.695145   \n",
       "\n",
       "    generate_node.tool_latency (s)  retrieval_node.context_relevance  \\\n",
       "0                         3.719913                          0.707973   \n",
       "1                         1.704725                          0.706106   \n",
       "2                         3.857880                          0.182579   \n",
       "3                         2.485644                          0.763274   \n",
       "4                         1.301571                          0.434709   \n",
       "5                         2.392032                          0.182579   \n",
       "6                         1.299260                          0.838809   \n",
       "7                         9.047280                          0.525792   \n",
       "8                         4.861366                          0.715336   \n",
       "9                         3.671573                          0.669930   \n",
       "10                        1.800755                          0.680109   \n",
       "\n",
       "    retrieval_node.tool_latency (s)  \n",
       "0                          1.135526  \n",
       "1                          0.834535  \n",
       "2                          1.374972  \n",
       "3                          0.709043  \n",
       "4                          1.305940  \n",
       "5                          1.584069  \n",
       "6                          0.725473  \n",
       "7                          0.710317  \n",
       "8                          0.698231  \n",
       "9                          1.219932  \n",
       "10                         1.155828  "
      ]
     },
     "execution_count": 14,
     "metadata": {},
     "output_type": "execute_result"
    }
   ],
   "source": [
    "result = rag_app.batch(inputs=question_bank_df.to_dict(\"records\"))\n",
    "transform_to_wide_format(evaluator.get_metrics_df())"
   ]
  },
  {
   "cell_type": "markdown",
   "metadata": {},
   "source": [
    "### CHANGELOG\n",
    "\n",
    "#### [0.0.2] - 2025-03-06\n",
    "##### Added\n",
    "- `transform_to_wide_format` method to show metrics results in wide format\n",
    "- Better documentation in cells to explain various attributes of the state.\n",
    "\n",
    "#### [0.0.1] - 2025-03-01\n",
    "##### Added\n",
    "- First set of evaluator nodes from IBM watsonx.governance\n",
    "\n"
   ]
  },
  {
   "cell_type": "markdown",
   "metadata": {},
   "source": [
    "Developed by [Prem Piyush Goyal](https://www.linkedin.com/in/prempiyush/)"
   ]
  }
 ],
 "metadata": {
  "kernelspec": {
   "display_name": ".tmp_venv",
   "language": "python",
   "name": "python3"
  },
  "language_info": {
   "codemirror_mode": {
    "name": "ipython",
    "version": 3
   },
   "file_extension": ".py",
   "mimetype": "text/x-python",
   "name": "python",
   "nbconvert_exporter": "python",
   "pygments_lexer": "ipython3",
   "version": "3.11.11"
  }
 },
 "nbformat": 4,
 "nbformat_minor": 4
}
