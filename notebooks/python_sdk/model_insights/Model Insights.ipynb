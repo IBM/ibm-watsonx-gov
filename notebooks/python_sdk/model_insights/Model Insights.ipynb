{
 "cells": [
  {
   "cell_type": "markdown",
   "metadata": {},
   "source": [
    "# ModelInsights using IBM watsonx.governance\n",
    "This notebook uses `ModelInsights` to interactively visualize the violated records based on the metrics threshold using venn diagrams and tables.\n",
    "Notes:\n",
    "- The visualization and interactivity features in the module are not supported by the Jupyter notebook within VS Code. It is recommended to use Jupyter notebook or Jupyter lab from the web browser to take advantage of the features of this module\n",
    "- Supported task types: `question_answering`, `classification`, `summarization`, `generation`, `extraction`, `retrieval_augmented_generation`\n"
   ]
  },
  {
   "cell_type": "markdown",
   "metadata": {},
   "source": [
    "This notebook should be run in Python 3.10 or greater runtime environment."
   ]
  },
  {
   "cell_type": "markdown",
   "metadata": {},
   "source": [
    "## Learning goals\n",
    "\n",
    "- Visualize the violated records using venn diagrams"
   ]
  },
  {
   "cell_type": "markdown",
   "metadata": {},
   "source": [
    "## Contents\n",
    "\n",
    "- [Step 1 - Install libraries](#install)\n",
    "- [Step 2 - Configuration](#configuration)\n",
    "- [Step 3 - Display the results](#display)"
   ]
  },
  {
   "cell_type": "markdown",
   "metadata": {},
   "source": [
    "## Install libraries<a name=\"install\"></a>\n"
   ]
  },
  {
   "cell_type": "markdown",
   "metadata": {},
   "source": [
    "### Install the required packages\n"
   ]
  },
  {
   "cell_type": "code",
   "execution_count": null,
   "metadata": {},
   "outputs": [],
   "source": [
    "%pip install \"ibm-watsonx-gov[visualization]\""
   ]
  },
  {
   "cell_type": "markdown",
   "metadata": {},
   "source": [
    "Note: you may need to restart the kernel to use updated packages."
   ]
  },
  {
   "cell_type": "markdown",
   "metadata": {},
   "source": [
    "## Configuration <a name=\"configuration\"></a>"
   ]
  },
  {
   "cell_type": "markdown",
   "metadata": {},
   "source": [
    "Define metrics thresholds"
   ]
  },
  {
   "cell_type": "code",
   "execution_count": 1,
   "metadata": {},
   "outputs": [
    {
     "data": {
      "text/html": [
       "\n",
       "            <style>\n",
       "                .reset_input_style > input {\n",
       "                    border: unset !important;\n",
       "                    background: unset !important;\n",
       "                }\n",
       "\n",
       "                .violations_table td {\n",
       "                    white-space: nowrap; text-overflow:ellipsis; overflow: hidden; max-width:1px;\n",
       "                }\n",
       "\n",
       "                .tooltip {\n",
       "                    position: relative;\n",
       "                }\n",
       "                .tooltip .tooltiptext {\n",
       "                    visibility: hidden;\n",
       "                    width: 120px;\n",
       "                    background-color: #555;\n",
       "                    color: #fff;\n",
       "                    text-align: center;\n",
       "                    border-radius: 6px;\n",
       "                    padding: 5px 0;\n",
       "                    position: absolute;\n",
       "                    z-index: 1;\n",
       "                    bottom: 125%;\n",
       "                    left: 50%;\n",
       "                    margin-left: -60px;\n",
       "                    opacity: 0;\n",
       "                    transition: opacity 0.3s;\n",
       "                }\n",
       "                .tooltip .tooltiptext::after {\n",
       "                    content: \"\";\n",
       "                    position: absolute;\n",
       "                    top: 100%;\n",
       "                    left: 50%;\n",
       "                    margin-left: -5px;\n",
       "                    border-width: 5px;\n",
       "                    border-style: solid;\n",
       "                    border-color: #555 transparent transparent transparent;\n",
       "                }\n",
       "                .tooltip:hover .tooltiptext {\n",
       "                    visibility: visible;\n",
       "                    opacity: 1;\n",
       "                }\n",
       "                mark:hover {\n",
       "                    background-color: white !important;\n",
       "                }\n",
       "            </style>\n",
       "            "
      ],
      "text/plain": [
       "<IPython.core.display.HTML object>"
      ]
     },
     "metadata": {},
     "output_type": "display_data"
    }
   ],
   "source": [
    "import pandas as pd\n",
    "\n",
    "from ibm_watsonx_gov.config import GenAIConfiguration\n",
    "from ibm_watsonx_gov.metrics import (\n",
    "    AveragePrecisionMetric,\n",
    "    ContextRelevanceMetric,\n",
    "    FaithfulnessMetric,\n",
    "    HitRateMetric,\n",
    "    NDCGMetric,\n",
    "    ReciprocalRankMetric,\n",
    "    RetrievalPrecisionMetric,\n",
    "    UnsuccessfulRequestsMetric\n",
    ")\n",
    "from ibm_watsonx_gov.entities.enums import TaskType\n",
    "from ibm_watsonx_gov.visualizations import ModelInsights\n",
    "\n",
    "question_field = \"question\"\n",
    "context_fields = [\"context1\",  \"context2\", \"context3\", \"context4\"]\n",
    "\n",
    "configuration = GenAIConfiguration(\n",
    "    input_fields=[question_field]+context_fields,\n",
    "    question_field=question_field,\n",
    "    context_fields=context_fields,\n",
    "    output_fields=[\"answer\"],\n",
    "    task_type=TaskType.RAG,\n",
    ")\n",
    "\n",
    "metrics = [\n",
    "    AveragePrecisionMetric(),\n",
    "    ContextRelevanceMetric(),\n",
    "    FaithfulnessMetric(),\n",
    "    HitRateMetric(),\n",
    "    NDCGMetric(),\n",
    "    ReciprocalRankMetric(),\n",
    "    RetrievalPrecisionMetric(),\n",
    "    UnsuccessfulRequestsMetric(),\n",
    "]\n",
    "\n",
    "model_insights = ModelInsights(configuration=configuration, metrics=metrics)"
   ]
  },
  {
   "cell_type": "markdown",
   "metadata": {},
   "source": [
    "## Display the results <a name=\"display\"></a>\n"
   ]
  },
  {
   "cell_type": "markdown",
   "metadata": {},
   "source": [
    "Interactively visualize data based on the thresholds defined in the configurations.\n",
    "To get started please use the sample RAG CSV  dataset provided in this notebook. However you can use your own result data for any of these Supported task types: `question_answering`, `classification`, `summarization`, `generation`, `extraction`, and `retrieval_augmented_generation`."
   ]
  },
  {
   "cell_type": "code",
   "execution_count": null,
   "metadata": {},
   "outputs": [
    {
     "data": {
      "application/vnd.jupyter.widget-view+json": {
       "model_id": "1c6f68bf48bf421fa63cea7fb2719cb0",
       "version_major": 2,
       "version_minor": 0
      },
      "text/plain": [
       "Tab(children=(Output(), Output(), Output(), Output()), selected_index=0, titles=('1', '2', '3', '4'))"
      ]
     },
     "metadata": {},
     "output_type": "display_data"
    }
   ],
   "source": [
    "%matplotlib ipympl\n",
    "\n",
    "# Load the results dataframe from the sample file\n",
    "df = pd.read_csv(\"https://raw.githubusercontent.com/IBM/ibm-watsonx-gov/refs/heads/samples/notebooks/data/rag/rag_metrics_values.csv\")\n",
    "\n",
    "# Find the violated records and display them\n",
    "model_insights.display_metrics(metrics_result=df)"
   ]
  }
 ],
 "metadata": {
  "kernelspec": {
   "display_name": "mrav2test",
   "language": "python",
   "name": "python3"
  },
  "language_info": {
   "codemirror_mode": {
    "name": "ipython",
    "version": 3
   },
   "file_extension": ".py",
   "mimetype": "text/x-python",
   "name": "python",
   "nbconvert_exporter": "python",
   "pygments_lexer": "ipython3",
   "version": "3.10.15"
  }
 },
 "nbformat": 4,
 "nbformat_minor": 4
}
